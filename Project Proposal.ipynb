{
 "cells": [
  {
   "cell_type": "markdown",
   "id": "ad93b450-860c-4995-b65d-fb687fb50da9",
   "metadata": {},
   "source": [
    "# DSCI 100 Group 28 Project Proposal:"
   ]
  },
  {
   "cell_type": "markdown",
   "id": "10c969f1-3859-4b33-9b7e-2b40bfa6f2f6",
   "metadata": {},
   "source": [
    "## Title: Predictability of Heart Disease From Clinical Factors"
   ]
  },
  {
   "cell_type": "markdown",
   "id": "eedf3659-1cff-4fdd-a141-5cd89c221e21",
   "metadata": {},
   "source": [
    "#### Authors:\n",
    "##### Ivy Li 80002512\n",
    "##### Wendy Liang 26036525\n",
    "##### Julia Hudea 18271156"
   ]
  },
  {
   "cell_type": "markdown",
   "id": "def2b0d4-df46-4172-8366-42f5ea03fd48",
   "metadata": {},
   "source": [
    "### Introduction:\n",
    "Heart disease is prevalent in people older in age, with irregular blood flow, and a high amount of fat deposits in blood vessels. Blood flow is associated with heart rate, resting cardiac performance, and chest pains (angina), whereas the number of fat deposits is reflected by cholesterol levels. Atypical angina and non-anginal pain are not heart-related. \n",
    "\n",
    "We will investigate whether or not it is possible to predict the likelihood of an individual having heart disease based on regular clinical assessments associated with the disease through a classification model. Specifically, we will be trying to predict the risk of heart disease based on the following five factors: (1) age, (2) maximum heart rate, (3) serum cholesterol, (4) resting electrocardiographic results, and (5) type of chest pain.\n",
    "\n",
    "We will use the dataset “reprogressed.hungarian.data” taken from the UCI Machine Learning Repository. The dataset contains 14 variables associated with heart disease, of which we will extract 5 (listed above) to help us answer the question. Variables (1)-(3) are numerical data, whereas (4) resting electrocardiographic results (0=normal, 1=abnormal) and (5) type of chest pain (1=typical angina, 2=atypical angina, 3=non-anginal pain, 4=asymptomatic) are categorical. Heart disease is also a categorical data (0=un-diagnosed, or 1=diagnosed).\n"
   ]
  },
  {
   "cell_type": "markdown",
   "id": "8156a74d-e3b4-4fb4-af1c-92f839342aee",
   "metadata": {},
   "source": [
    "### Preliminary Exploratory Data Analysis:"
   ]
  },
  {
   "cell_type": "code",
   "execution_count": 1,
   "id": "3f8c53b0-4e9b-41fa-8824-ad92331bd368",
   "metadata": {},
   "outputs": [
    {
     "name": "stderr",
     "output_type": "stream",
     "text": [
      "Registered S3 methods overwritten by 'ggplot2':\n",
      "  method         from \n",
      "  [.quosures     rlang\n",
      "  c.quosures     rlang\n",
      "  print.quosures rlang\n",
      "Registered S3 method overwritten by 'rvest':\n",
      "  method            from\n",
      "  read_xml.response xml2\n",
      "-- Attaching packages --------------------------------------- tidyverse 1.2.1 --\n",
      "v ggplot2 3.1.1       v purrr   0.3.2  \n",
      "v tibble  2.1.1       v dplyr   0.8.0.1\n",
      "v tidyr   0.8.3       v stringr 1.4.0  \n",
      "v readr   1.3.1       v forcats 0.4.0  \n",
      "-- Conflicts ------------------------------------------ tidyverse_conflicts() --\n",
      "x dplyr::filter() masks stats::filter()\n",
      "x dplyr::lag()    masks stats::lag()\n"
     ]
    },
    {
     "ename": "ERROR",
     "evalue": "Error in library(tidymodels): there is no package called 'tidymodels'\n",
     "output_type": "error",
     "traceback": [
      "Error in library(tidymodels): there is no package called 'tidymodels'\nTraceback:\n",
      "1. library(tidymodels)"
     ]
    }
   ],
   "source": [
    "library(tidyverse) \n",
    "library(tidymodels)"
   ]
  },
  {
   "cell_type": "markdown",
   "id": "a808b808",
   "metadata": {},
   "source": [
    "#### LEGEND:\n",
    "\n",
    "1. age = age\n",
    "2. sex = sex (1/0)\n",
    "3. cp = chest pain (4 classifications)\n",
    "4. trestbps = resting blood pressure (mm Hg)\n",
    "5. chol = serum cholestrol (mg/dl)\n",
    "6. fbs = fasting blood sugar (1/0, yes/no)\n",
    "7. restecg = resting electrocardiographic results  (3 classifications)\n",
    "8. thalach = maximum heart rate achieved \n",
    "9. exang = exercise induced angina (1/0, yes/no)\n",
    "10. oldpeak = ST depression induced by exercise relative to rest \n",
    "11. slope = slope of the peak exercise ST segment  (3 classifications)\n",
    "12. ca = number of major vessels (0-3) colored by flourosopy \n",
    "13. hal = histidine ammonia-lyase (HAL) gene : 3 = normal; 6 = fixed defect; 7 = reversable defect \n",
    "14. num = diagnosis of heart disease (angiographic disease status) (0/1) ",
    "\t-- Value 0: < 50% diameter narrowing  ",
    "\t-- Value 1: > 50% diameter narrowing \n"
   ]
  },
  {
   "cell_type": "markdown",
   "id": "9f69d046",
   "metadata": {},
   "source": [
    "----"
   ]
  },
  {
   "cell_type": "markdown",
   "id": "5acd9dc9",
   "metadata": {},
   "source": [
    "### 1) Data Reading and Tidying"
   ]
  },
  {
   "cell_type": "code",
   "execution_count": 11,
   "id": "dec059a8-8dbf-4326-a067-a42904bcd5fc",
   "metadata": {},
   "outputs": [
    {
     "data": {
      "text/html": [
       "<table class=\"dataframe\">\n",
       "<caption>A data.frame: 10 × 14</caption>\n",
       "<thead>\n",
       "\t<tr><th scope=col>age</th><th scope=col>sex</th><th scope=col>cp</th><th scope=col>trestbps</th><th scope=col>chol</th><th scope=col>fbs</th><th scope=col>restecg</th><th scope=col>thalach</th><th scope=col>exang</th><th scope=col>oldpeak</th><th scope=col>slope</th><th scope=col>ca</th><th scope=col>thal</th><th scope=col>num</th></tr>\n",
       "\t<tr><th scope=col>&lt;int&gt;</th><th scope=col>&lt;int&gt;</th><th scope=col>&lt;int&gt;</th><th scope=col>&lt;int&gt;</th><th scope=col>&lt;int&gt;</th><th scope=col>&lt;int&gt;</th><th scope=col>&lt;int&gt;</th><th scope=col>&lt;int&gt;</th><th scope=col>&lt;int&gt;</th><th scope=col>&lt;dbl&gt;</th><th scope=col>&lt;int&gt;</th><th scope=col>&lt;int&gt;</th><th scope=col>&lt;int&gt;</th><th scope=col>&lt;fct&gt;</th></tr>\n",
       "</thead>\n",
       "<tbody>\n",
       "\t<tr><td>28</td><td>1</td><td>2</td><td>130</td><td>132</td><td>0</td><td>2</td><td>185</td><td>0</td><td>0</td><td>NA</td><td>NA</td><td>NA</td><td>0</td></tr>\n",
       "\t<tr><td>29</td><td>1</td><td>2</td><td>120</td><td>243</td><td>0</td><td>0</td><td>160</td><td>0</td><td>0</td><td>NA</td><td>NA</td><td>NA</td><td>0</td></tr>\n",
       "\t<tr><td>29</td><td>1</td><td>2</td><td>140</td><td> NA</td><td>0</td><td>0</td><td>170</td><td>0</td><td>0</td><td>NA</td><td>NA</td><td>NA</td><td>0</td></tr>\n",
       "\t<tr><td>30</td><td>0</td><td>1</td><td>170</td><td>237</td><td>0</td><td>1</td><td>170</td><td>0</td><td>0</td><td>NA</td><td>NA</td><td> 6</td><td>0</td></tr>\n",
       "\t<tr><td>31</td><td>0</td><td>2</td><td>100</td><td>219</td><td>0</td><td>1</td><td>150</td><td>0</td><td>0</td><td>NA</td><td>NA</td><td>NA</td><td>0</td></tr>\n",
       "\t<tr><td>32</td><td>0</td><td>2</td><td>105</td><td>198</td><td>0</td><td>0</td><td>165</td><td>0</td><td>0</td><td>NA</td><td>NA</td><td>NA</td><td>0</td></tr>\n",
       "\t<tr><td>32</td><td>1</td><td>2</td><td>110</td><td>225</td><td>0</td><td>0</td><td>184</td><td>0</td><td>0</td><td>NA</td><td>NA</td><td>NA</td><td>0</td></tr>\n",
       "\t<tr><td>32</td><td>1</td><td>2</td><td>125</td><td>254</td><td>0</td><td>0</td><td>155</td><td>0</td><td>0</td><td>NA</td><td>NA</td><td>NA</td><td>0</td></tr>\n",
       "\t<tr><td>33</td><td>1</td><td>3</td><td>120</td><td>298</td><td>0</td><td>0</td><td>185</td><td>0</td><td>0</td><td>NA</td><td>NA</td><td>NA</td><td>0</td></tr>\n",
       "\t<tr><td>34</td><td>0</td><td>2</td><td>130</td><td>161</td><td>0</td><td>0</td><td>190</td><td>0</td><td>0</td><td>NA</td><td>NA</td><td>NA</td><td>0</td></tr>\n",
       "</tbody>\n",
       "</table>\n"
      ],
      "text/latex": [
       "A data.frame: 10 × 14\n",
       "\\begin{tabular}{llllllllllllll}\n",
       " age & sex & cp & trestbps & chol & fbs & restecg & thalach & exang & oldpeak & slope & ca & thal & num\\\\\n",
       " <int> & <int> & <int> & <int> & <int> & <int> & <int> & <int> & <int> & <dbl> & <int> & <int> & <int> & <fct>\\\\\n",
       "\\hline\n",
       "\t 28 & 1 & 2 & 130 & 132 & 0 & 2 & 185 & 0 & 0 & NA & NA & NA & 0\\\\\n",
       "\t 29 & 1 & 2 & 120 & 243 & 0 & 0 & 160 & 0 & 0 & NA & NA & NA & 0\\\\\n",
       "\t 29 & 1 & 2 & 140 &  NA & 0 & 0 & 170 & 0 & 0 & NA & NA & NA & 0\\\\\n",
       "\t 30 & 0 & 1 & 170 & 237 & 0 & 1 & 170 & 0 & 0 & NA & NA &  6 & 0\\\\\n",
       "\t 31 & 0 & 2 & 100 & 219 & 0 & 1 & 150 & 0 & 0 & NA & NA & NA & 0\\\\\n",
       "\t 32 & 0 & 2 & 105 & 198 & 0 & 0 & 165 & 0 & 0 & NA & NA & NA & 0\\\\\n",
       "\t 32 & 1 & 2 & 110 & 225 & 0 & 0 & 184 & 0 & 0 & NA & NA & NA & 0\\\\\n",
       "\t 32 & 1 & 2 & 125 & 254 & 0 & 0 & 155 & 0 & 0 & NA & NA & NA & 0\\\\\n",
       "\t 33 & 1 & 3 & 120 & 298 & 0 & 0 & 185 & 0 & 0 & NA & NA & NA & 0\\\\\n",
       "\t 34 & 0 & 2 & 130 & 161 & 0 & 0 & 190 & 0 & 0 & NA & NA & NA & 0\\\\\n",
       "\\end{tabular}\n"
      ],
      "text/markdown": [
       "\n",
       "A data.frame: 10 × 14\n",
       "\n",
       "| age &lt;int&gt; | sex &lt;int&gt; | cp &lt;int&gt; | trestbps &lt;int&gt; | chol &lt;int&gt; | fbs &lt;int&gt; | restecg &lt;int&gt; | thalach &lt;int&gt; | exang &lt;int&gt; | oldpeak &lt;dbl&gt; | slope &lt;int&gt; | ca &lt;int&gt; | thal &lt;int&gt; | num &lt;fct&gt; |\n",
       "|---|---|---|---|---|---|---|---|---|---|---|---|---|---|\n",
       "| 28 | 1 | 2 | 130 | 132 | 0 | 2 | 185 | 0 | 0 | NA | NA | NA | 0 |\n",
       "| 29 | 1 | 2 | 120 | 243 | 0 | 0 | 160 | 0 | 0 | NA | NA | NA | 0 |\n",
       "| 29 | 1 | 2 | 140 |  NA | 0 | 0 | 170 | 0 | 0 | NA | NA | NA | 0 |\n",
       "| 30 | 0 | 1 | 170 | 237 | 0 | 1 | 170 | 0 | 0 | NA | NA |  6 | 0 |\n",
       "| 31 | 0 | 2 | 100 | 219 | 0 | 1 | 150 | 0 | 0 | NA | NA | NA | 0 |\n",
       "| 32 | 0 | 2 | 105 | 198 | 0 | 0 | 165 | 0 | 0 | NA | NA | NA | 0 |\n",
       "| 32 | 1 | 2 | 110 | 225 | 0 | 0 | 184 | 0 | 0 | NA | NA | NA | 0 |\n",
       "| 32 | 1 | 2 | 125 | 254 | 0 | 0 | 155 | 0 | 0 | NA | NA | NA | 0 |\n",
       "| 33 | 1 | 3 | 120 | 298 | 0 | 0 | 185 | 0 | 0 | NA | NA | NA | 0 |\n",
       "| 34 | 0 | 2 | 130 | 161 | 0 | 0 | 190 | 0 | 0 | NA | NA | NA | 0 |\n",
       "\n"
      ],
      "text/plain": [
       "   age sex cp trestbps chol fbs restecg thalach exang oldpeak slope ca thal num\n",
       "1  28  1   2  130      132  0   2       185     0     0       NA    NA NA   0  \n",
       "2  29  1   2  120      243  0   0       160     0     0       NA    NA NA   0  \n",
       "3  29  1   2  140       NA  0   0       170     0     0       NA    NA NA   0  \n",
       "4  30  0   1  170      237  0   1       170     0     0       NA    NA  6   0  \n",
       "5  31  0   2  100      219  0   1       150     0     0       NA    NA NA   0  \n",
       "6  32  0   2  105      198  0   0       165     0     0       NA    NA NA   0  \n",
       "7  32  1   2  110      225  0   0       184     0     0       NA    NA NA   0  \n",
       "8  32  1   2  125      254  0   0       155     0     0       NA    NA NA   0  \n",
       "9  33  1   3  120      298  0   0       185     0     0       NA    NA NA   0  \n",
       "10 34  0   2  130      161  0   0       190     0     0       NA    NA NA   0  "
      ]
     },
     "metadata": {},
     "output_type": "display_data"
    }
   ],
   "source": [
    "url <- \"https://archive.ics.uci.edu/ml/machine-learning-databases/heart-disease/processed.hungarian.data\"\n",
    "hungarian_heart_disease_data <- read.csv(url, header = FALSE, na.strings = \"?\")\n",
    "colnames(hungarian_heart_disease_data) <- c(\"age\", \"sex\", \"cp\", \"trestbps\", \"chol\", \"fbs\", \"restecg\", \"thalach\", \"exang\", \"oldpeak\", \"slope\", \"ca\", \"thal\", \"num\")\n",
    "mutate(hungarian_heart_disease_data, num = as_factor(num)) |>\n",
    "slice(1:10)"
   ]
  },
  {
   "cell_type": "code",
   "execution_count": 12,
   "id": "d1eb5bf6-2f4e-448c-ab64-8cfcd440a3f8",
   "metadata": {},
   "outputs": [
    {
     "data": {
      "text/html": [
       "<table class=\"dataframe\">\n",
       "<caption>A data.frame: 10 × 15</caption>\n",
       "<thead>\n",
       "\t<tr><th scope=col>age</th><th scope=col>sex</th><th scope=col>cp</th><th scope=col>trestbps</th><th scope=col>chol</th><th scope=col>fbs</th><th scope=col>restecg</th><th scope=col>thalach</th><th scope=col>exang</th><th scope=col>oldpeak</th><th scope=col>slope</th><th scope=col>ca</th><th scope=col>thal</th><th scope=col>num</th><th scope=col>patient_id</th></tr>\n",
       "\t<tr><th scope=col>&lt;int&gt;</th><th scope=col>&lt;int&gt;</th><th scope=col>&lt;int&gt;</th><th scope=col>&lt;int&gt;</th><th scope=col>&lt;int&gt;</th><th scope=col>&lt;int&gt;</th><th scope=col>&lt;int&gt;</th><th scope=col>&lt;int&gt;</th><th scope=col>&lt;int&gt;</th><th scope=col>&lt;dbl&gt;</th><th scope=col>&lt;int&gt;</th><th scope=col>&lt;int&gt;</th><th scope=col>&lt;int&gt;</th><th scope=col>&lt;int&gt;</th><th scope=col>&lt;int&gt;</th></tr>\n",
       "</thead>\n",
       "<tbody>\n",
       "\t<tr><td>28</td><td>1</td><td>2</td><td>130</td><td>132</td><td>0</td><td>2</td><td>185</td><td>0</td><td>0</td><td>NA</td><td>NA</td><td>NA</td><td>0</td><td> 1</td></tr>\n",
       "\t<tr><td>29</td><td>1</td><td>2</td><td>120</td><td>243</td><td>0</td><td>0</td><td>160</td><td>0</td><td>0</td><td>NA</td><td>NA</td><td>NA</td><td>0</td><td> 2</td></tr>\n",
       "\t<tr><td>29</td><td>1</td><td>2</td><td>140</td><td> NA</td><td>0</td><td>0</td><td>170</td><td>0</td><td>0</td><td>NA</td><td>NA</td><td>NA</td><td>0</td><td> 3</td></tr>\n",
       "\t<tr><td>30</td><td>0</td><td>1</td><td>170</td><td>237</td><td>0</td><td>1</td><td>170</td><td>0</td><td>0</td><td>NA</td><td>NA</td><td> 6</td><td>0</td><td> 4</td></tr>\n",
       "\t<tr><td>31</td><td>0</td><td>2</td><td>100</td><td>219</td><td>0</td><td>1</td><td>150</td><td>0</td><td>0</td><td>NA</td><td>NA</td><td>NA</td><td>0</td><td> 5</td></tr>\n",
       "\t<tr><td>32</td><td>0</td><td>2</td><td>105</td><td>198</td><td>0</td><td>0</td><td>165</td><td>0</td><td>0</td><td>NA</td><td>NA</td><td>NA</td><td>0</td><td> 6</td></tr>\n",
       "\t<tr><td>32</td><td>1</td><td>2</td><td>110</td><td>225</td><td>0</td><td>0</td><td>184</td><td>0</td><td>0</td><td>NA</td><td>NA</td><td>NA</td><td>0</td><td> 7</td></tr>\n",
       "\t<tr><td>32</td><td>1</td><td>2</td><td>125</td><td>254</td><td>0</td><td>0</td><td>155</td><td>0</td><td>0</td><td>NA</td><td>NA</td><td>NA</td><td>0</td><td> 8</td></tr>\n",
       "\t<tr><td>33</td><td>1</td><td>3</td><td>120</td><td>298</td><td>0</td><td>0</td><td>185</td><td>0</td><td>0</td><td>NA</td><td>NA</td><td>NA</td><td>0</td><td> 9</td></tr>\n",
       "\t<tr><td>34</td><td>0</td><td>2</td><td>130</td><td>161</td><td>0</td><td>0</td><td>190</td><td>0</td><td>0</td><td>NA</td><td>NA</td><td>NA</td><td>0</td><td>10</td></tr>\n",
       "</tbody>\n",
       "</table>\n"
      ],
      "text/latex": [
       "A data.frame: 10 × 15\n",
       "\\begin{tabular}{lllllllllllllll}\n",
       " age & sex & cp & trestbps & chol & fbs & restecg & thalach & exang & oldpeak & slope & ca & thal & num & patient\\_id\\\\\n",
       " <int> & <int> & <int> & <int> & <int> & <int> & <int> & <int> & <int> & <dbl> & <int> & <int> & <int> & <int> & <int>\\\\\n",
       "\\hline\n",
       "\t 28 & 1 & 2 & 130 & 132 & 0 & 2 & 185 & 0 & 0 & NA & NA & NA & 0 &  1\\\\\n",
       "\t 29 & 1 & 2 & 120 & 243 & 0 & 0 & 160 & 0 & 0 & NA & NA & NA & 0 &  2\\\\\n",
       "\t 29 & 1 & 2 & 140 &  NA & 0 & 0 & 170 & 0 & 0 & NA & NA & NA & 0 &  3\\\\\n",
       "\t 30 & 0 & 1 & 170 & 237 & 0 & 1 & 170 & 0 & 0 & NA & NA &  6 & 0 &  4\\\\\n",
       "\t 31 & 0 & 2 & 100 & 219 & 0 & 1 & 150 & 0 & 0 & NA & NA & NA & 0 &  5\\\\\n",
       "\t 32 & 0 & 2 & 105 & 198 & 0 & 0 & 165 & 0 & 0 & NA & NA & NA & 0 &  6\\\\\n",
       "\t 32 & 1 & 2 & 110 & 225 & 0 & 0 & 184 & 0 & 0 & NA & NA & NA & 0 &  7\\\\\n",
       "\t 32 & 1 & 2 & 125 & 254 & 0 & 0 & 155 & 0 & 0 & NA & NA & NA & 0 &  8\\\\\n",
       "\t 33 & 1 & 3 & 120 & 298 & 0 & 0 & 185 & 0 & 0 & NA & NA & NA & 0 &  9\\\\\n",
       "\t 34 & 0 & 2 & 130 & 161 & 0 & 0 & 190 & 0 & 0 & NA & NA & NA & 0 & 10\\\\\n",
       "\\end{tabular}\n"
      ],
      "text/markdown": [
       "\n",
       "A data.frame: 10 × 15\n",
       "\n",
       "| age &lt;int&gt; | sex &lt;int&gt; | cp &lt;int&gt; | trestbps &lt;int&gt; | chol &lt;int&gt; | fbs &lt;int&gt; | restecg &lt;int&gt; | thalach &lt;int&gt; | exang &lt;int&gt; | oldpeak &lt;dbl&gt; | slope &lt;int&gt; | ca &lt;int&gt; | thal &lt;int&gt; | num &lt;int&gt; | patient_id &lt;int&gt; |\n",
       "|---|---|---|---|---|---|---|---|---|---|---|---|---|---|---|\n",
       "| 28 | 1 | 2 | 130 | 132 | 0 | 2 | 185 | 0 | 0 | NA | NA | NA | 0 |  1 |\n",
       "| 29 | 1 | 2 | 120 | 243 | 0 | 0 | 160 | 0 | 0 | NA | NA | NA | 0 |  2 |\n",
       "| 29 | 1 | 2 | 140 |  NA | 0 | 0 | 170 | 0 | 0 | NA | NA | NA | 0 |  3 |\n",
       "| 30 | 0 | 1 | 170 | 237 | 0 | 1 | 170 | 0 | 0 | NA | NA |  6 | 0 |  4 |\n",
       "| 31 | 0 | 2 | 100 | 219 | 0 | 1 | 150 | 0 | 0 | NA | NA | NA | 0 |  5 |\n",
       "| 32 | 0 | 2 | 105 | 198 | 0 | 0 | 165 | 0 | 0 | NA | NA | NA | 0 |  6 |\n",
       "| 32 | 1 | 2 | 110 | 225 | 0 | 0 | 184 | 0 | 0 | NA | NA | NA | 0 |  7 |\n",
       "| 32 | 1 | 2 | 125 | 254 | 0 | 0 | 155 | 0 | 0 | NA | NA | NA | 0 |  8 |\n",
       "| 33 | 1 | 3 | 120 | 298 | 0 | 0 | 185 | 0 | 0 | NA | NA | NA | 0 |  9 |\n",
       "| 34 | 0 | 2 | 130 | 161 | 0 | 0 | 190 | 0 | 0 | NA | NA | NA | 0 | 10 |\n",
       "\n"
      ],
      "text/plain": [
       "   age sex cp trestbps chol fbs restecg thalach exang oldpeak slope ca thal num\n",
       "1  28  1   2  130      132  0   2       185     0     0       NA    NA NA   0  \n",
       "2  29  1   2  120      243  0   0       160     0     0       NA    NA NA   0  \n",
       "3  29  1   2  140       NA  0   0       170     0     0       NA    NA NA   0  \n",
       "4  30  0   1  170      237  0   1       170     0     0       NA    NA  6   0  \n",
       "5  31  0   2  100      219  0   1       150     0     0       NA    NA NA   0  \n",
       "6  32  0   2  105      198  0   0       165     0     0       NA    NA NA   0  \n",
       "7  32  1   2  110      225  0   0       184     0     0       NA    NA NA   0  \n",
       "8  32  1   2  125      254  0   0       155     0     0       NA    NA NA   0  \n",
       "9  33  1   3  120      298  0   0       185     0     0       NA    NA NA   0  \n",
       "10 34  0   2  130      161  0   0       190     0     0       NA    NA NA   0  \n",
       "   patient_id\n",
       "1   1        \n",
       "2   2        \n",
       "3   3        \n",
       "4   4        \n",
       "5   5        \n",
       "6   6        \n",
       "7   7        \n",
       "8   8        \n",
       "9   9        \n",
       "10 10        "
      ]
     },
     "metadata": {},
     "output_type": "display_data"
    }
   ],
   "source": [
    "tidy_hungarian_heart_disease_data <- hungarian_heart_disease_data |>\n",
    "    mutate(patient_id = row_number())\n",
    "slice(tidy_hungarian_heart_disease_data, 1:10)"
   ]
  },
  {
   "cell_type": "code",
   "execution_count": 13,
   "id": "28b73086-76b7-41db-aae2-71b50d9ca7e3",
   "metadata": {},
   "outputs": [
    {
     "data": {
      "text/html": [
       "<table class=\"dataframe\">\n",
       "<caption>A data.frame: 10 × 15</caption>\n",
       "<thead>\n",
       "\t<tr><th scope=col>age</th><th scope=col>sex</th><th scope=col>cp</th><th scope=col>trestbps</th><th scope=col>chol</th><th scope=col>fbs</th><th scope=col>restecg</th><th scope=col>thalach</th><th scope=col>exang</th><th scope=col>oldpeak</th><th scope=col>slope</th><th scope=col>ca</th><th scope=col>thal</th><th scope=col>patient_id</th><th scope=col>num</th></tr>\n",
       "\t<tr><th scope=col>&lt;dbl[,1]&gt;</th><th scope=col>&lt;dbl[,1]&gt;</th><th scope=col>&lt;dbl[,1]&gt;</th><th scope=col>&lt;dbl[,1]&gt;</th><th scope=col>&lt;dbl[,1]&gt;</th><th scope=col>&lt;dbl[,1]&gt;</th><th scope=col>&lt;dbl[,1]&gt;</th><th scope=col>&lt;dbl[,1]&gt;</th><th scope=col>&lt;dbl[,1]&gt;</th><th scope=col>&lt;dbl[,1]&gt;</th><th scope=col>&lt;dbl[,1]&gt;</th><th scope=col>&lt;dbl[,1]&gt;</th><th scope=col>&lt;dbl[,1]&gt;</th><th scope=col>&lt;int&gt;</th><th scope=col>&lt;int&gt;</th></tr>\n",
       "</thead>\n",
       "<tbody>\n",
       "\t<tr><td>-2.538019</td><td> 0.6156202</td><td>-1.0185225</td><td>-0.1465752</td><td>-1.75661733</td><td>-0.2737245</td><td> 3.865688</td><td>1.9445017</td><td>-0.6593827</td><td>-0.6449742</td><td>NA</td><td>NA</td><td>       NA</td><td> 1</td><td>0</td></tr>\n",
       "\t<tr><td>-2.410008</td><td> 0.6156202</td><td>-1.0185225</td><td>-0.7139006</td><td>-0.11600612</td><td>-0.2737245</td><td>-0.473954</td><td>0.8847193</td><td>-0.6593827</td><td>-0.6449742</td><td>NA</td><td>NA</td><td>       NA</td><td> 2</td><td>0</td></tr>\n",
       "\t<tr><td>-2.410008</td><td> 0.6156202</td><td>-1.0185225</td><td> 0.4207502</td><td>         NA</td><td>-0.2737245</td><td>-0.473954</td><td>1.3086323</td><td>-0.6593827</td><td>-0.6449742</td><td>NA</td><td>NA</td><td>       NA</td><td> 3</td><td>0</td></tr>\n",
       "\t<tr><td>-2.281997</td><td>-1.6188531</td><td>-2.0546666</td><td> 2.1227265</td><td>-0.20468781</td><td>-0.2737245</td><td> 1.695867</td><td>1.3086323</td><td>-0.6593827</td><td>-0.6449742</td><td>NA</td><td>NA</td><td>0.2211309</td><td> 4</td><td>0</td></tr>\n",
       "\t<tr><td>-2.153985</td><td>-1.6188531</td><td>-1.0185225</td><td>-1.8485515</td><td>-0.47073287</td><td>-0.2737245</td><td> 1.695867</td><td>0.4608064</td><td>-0.6593827</td><td>-0.6449742</td><td>NA</td><td>NA</td><td>       NA</td><td> 5</td><td>0</td></tr>\n",
       "\t<tr><td>-2.025974</td><td>-1.6188531</td><td>-1.0185225</td><td>-1.5648887</td><td>-0.78111877</td><td>-0.2737245</td><td>-0.473954</td><td>1.0966758</td><td>-0.6593827</td><td>-0.6449742</td><td>NA</td><td>NA</td><td>       NA</td><td> 6</td><td>0</td></tr>\n",
       "\t<tr><td>-2.025974</td><td> 0.6156202</td><td>-1.0185225</td><td>-1.2812260</td><td>-0.38205118</td><td>-0.2737245</td><td>-0.473954</td><td>1.9021104</td><td>-0.6593827</td><td>-0.6449742</td><td>NA</td><td>NA</td><td>       NA</td><td> 7</td><td>0</td></tr>\n",
       "\t<tr><td>-2.025974</td><td> 0.6156202</td><td>-1.0185225</td><td>-0.4302379</td><td> 0.04657697</td><td>-0.2737245</td><td>-0.473954</td><td>0.6727629</td><td>-0.6593827</td><td>-0.6449742</td><td>NA</td><td>NA</td><td>       NA</td><td> 8</td><td>0</td></tr>\n",
       "\t<tr><td>-1.897963</td><td> 0.6156202</td><td> 0.0176215</td><td>-0.7139006</td><td> 0.69690935</td><td>-0.2737245</td><td>-0.473954</td><td>1.9445017</td><td>-0.6593827</td><td>-0.6449742</td><td>NA</td><td>NA</td><td>       NA</td><td> 9</td><td>0</td></tr>\n",
       "\t<tr><td>-1.769952</td><td>-1.6188531</td><td>-1.0185225</td><td>-0.1465752</td><td>-1.32798918</td><td>-0.2737245</td><td>-0.473954</td><td>2.1564581</td><td>-0.6593827</td><td>-0.6449742</td><td>NA</td><td>NA</td><td>       NA</td><td>10</td><td>0</td></tr>\n",
       "</tbody>\n",
       "</table>\n"
      ],
      "text/latex": [
       "A data.frame: 10 × 15\n",
       "\\begin{tabular}{lllllllllllllll}\n",
       " age & sex & cp & trestbps & chol & fbs & restecg & thalach & exang & oldpeak & slope & ca & thal & patient\\_id & num\\\\\n",
       " <dbl{[},1{]}> & <dbl{[},1{]}> & <dbl{[},1{]}> & <dbl{[},1{]}> & <dbl{[},1{]}> & <dbl{[},1{]}> & <dbl{[},1{]}> & <dbl{[},1{]}> & <dbl{[},1{]}> & <dbl{[},1{]}> & <dbl{[},1{]}> & <dbl{[},1{]}> & <dbl{[},1{]}> & <int> & <int>\\\\\n",
       "\\hline\n",
       "\t -2.538019 &  0.6156202 & -1.0185225 & -0.1465752 & -1.75661733 & -0.2737245 &  3.865688 & 1.9445017 & -0.6593827 & -0.6449742 & NA & NA &        NA &  1 & 0\\\\\n",
       "\t -2.410008 &  0.6156202 & -1.0185225 & -0.7139006 & -0.11600612 & -0.2737245 & -0.473954 & 0.8847193 & -0.6593827 & -0.6449742 & NA & NA &        NA &  2 & 0\\\\\n",
       "\t -2.410008 &  0.6156202 & -1.0185225 &  0.4207502 &          NA & -0.2737245 & -0.473954 & 1.3086323 & -0.6593827 & -0.6449742 & NA & NA &        NA &  3 & 0\\\\\n",
       "\t -2.281997 & -1.6188531 & -2.0546666 &  2.1227265 & -0.20468781 & -0.2737245 &  1.695867 & 1.3086323 & -0.6593827 & -0.6449742 & NA & NA & 0.2211309 &  4 & 0\\\\\n",
       "\t -2.153985 & -1.6188531 & -1.0185225 & -1.8485515 & -0.47073287 & -0.2737245 &  1.695867 & 0.4608064 & -0.6593827 & -0.6449742 & NA & NA &        NA &  5 & 0\\\\\n",
       "\t -2.025974 & -1.6188531 & -1.0185225 & -1.5648887 & -0.78111877 & -0.2737245 & -0.473954 & 1.0966758 & -0.6593827 & -0.6449742 & NA & NA &        NA &  6 & 0\\\\\n",
       "\t -2.025974 &  0.6156202 & -1.0185225 & -1.2812260 & -0.38205118 & -0.2737245 & -0.473954 & 1.9021104 & -0.6593827 & -0.6449742 & NA & NA &        NA &  7 & 0\\\\\n",
       "\t -2.025974 &  0.6156202 & -1.0185225 & -0.4302379 &  0.04657697 & -0.2737245 & -0.473954 & 0.6727629 & -0.6593827 & -0.6449742 & NA & NA &        NA &  8 & 0\\\\\n",
       "\t -1.897963 &  0.6156202 &  0.0176215 & -0.7139006 &  0.69690935 & -0.2737245 & -0.473954 & 1.9445017 & -0.6593827 & -0.6449742 & NA & NA &        NA &  9 & 0\\\\\n",
       "\t -1.769952 & -1.6188531 & -1.0185225 & -0.1465752 & -1.32798918 & -0.2737245 & -0.473954 & 2.1564581 & -0.6593827 & -0.6449742 & NA & NA &        NA & 10 & 0\\\\\n",
       "\\end{tabular}\n"
      ],
      "text/markdown": [
       "\n",
       "A data.frame: 10 × 15\n",
       "\n",
       "| age &lt;dbl[,1]&gt; | sex &lt;dbl[,1]&gt; | cp &lt;dbl[,1]&gt; | trestbps &lt;dbl[,1]&gt; | chol &lt;dbl[,1]&gt; | fbs &lt;dbl[,1]&gt; | restecg &lt;dbl[,1]&gt; | thalach &lt;dbl[,1]&gt; | exang &lt;dbl[,1]&gt; | oldpeak &lt;dbl[,1]&gt; | slope &lt;dbl[,1]&gt; | ca &lt;dbl[,1]&gt; | thal &lt;dbl[,1]&gt; | patient_id &lt;int&gt; | num &lt;int&gt; |\n",
       "|---|---|---|---|---|---|---|---|---|---|---|---|---|---|---|\n",
       "| -2.538019 |  0.6156202 | -1.0185225 | -0.1465752 | -1.75661733 | -0.2737245 |  3.865688 | 1.9445017 | -0.6593827 | -0.6449742 | NA | NA |        NA |  1 | 0 |\n",
       "| -2.410008 |  0.6156202 | -1.0185225 | -0.7139006 | -0.11600612 | -0.2737245 | -0.473954 | 0.8847193 | -0.6593827 | -0.6449742 | NA | NA |        NA |  2 | 0 |\n",
       "| -2.410008 |  0.6156202 | -1.0185225 |  0.4207502 |          NA | -0.2737245 | -0.473954 | 1.3086323 | -0.6593827 | -0.6449742 | NA | NA |        NA |  3 | 0 |\n",
       "| -2.281997 | -1.6188531 | -2.0546666 |  2.1227265 | -0.20468781 | -0.2737245 |  1.695867 | 1.3086323 | -0.6593827 | -0.6449742 | NA | NA | 0.2211309 |  4 | 0 |\n",
       "| -2.153985 | -1.6188531 | -1.0185225 | -1.8485515 | -0.47073287 | -0.2737245 |  1.695867 | 0.4608064 | -0.6593827 | -0.6449742 | NA | NA |        NA |  5 | 0 |\n",
       "| -2.025974 | -1.6188531 | -1.0185225 | -1.5648887 | -0.78111877 | -0.2737245 | -0.473954 | 1.0966758 | -0.6593827 | -0.6449742 | NA | NA |        NA |  6 | 0 |\n",
       "| -2.025974 |  0.6156202 | -1.0185225 | -1.2812260 | -0.38205118 | -0.2737245 | -0.473954 | 1.9021104 | -0.6593827 | -0.6449742 | NA | NA |        NA |  7 | 0 |\n",
       "| -2.025974 |  0.6156202 | -1.0185225 | -0.4302379 |  0.04657697 | -0.2737245 | -0.473954 | 0.6727629 | -0.6593827 | -0.6449742 | NA | NA |        NA |  8 | 0 |\n",
       "| -1.897963 |  0.6156202 |  0.0176215 | -0.7139006 |  0.69690935 | -0.2737245 | -0.473954 | 1.9445017 | -0.6593827 | -0.6449742 | NA | NA |        NA |  9 | 0 |\n",
       "| -1.769952 | -1.6188531 | -1.0185225 | -0.1465752 | -1.32798918 | -0.2737245 | -0.473954 | 2.1564581 | -0.6593827 | -0.6449742 | NA | NA |        NA | 10 | 0 |\n",
       "\n"
      ],
      "text/plain": [
       "   age       sex        cp         trestbps   chol        fbs        restecg  \n",
       "1  -2.538019  0.6156202 -1.0185225 -0.1465752 -1.75661733 -0.2737245  3.865688\n",
       "2  -2.410008  0.6156202 -1.0185225 -0.7139006 -0.11600612 -0.2737245 -0.473954\n",
       "3  -2.410008  0.6156202 -1.0185225  0.4207502          NA -0.2737245 -0.473954\n",
       "4  -2.281997 -1.6188531 -2.0546666  2.1227265 -0.20468781 -0.2737245  1.695867\n",
       "5  -2.153985 -1.6188531 -1.0185225 -1.8485515 -0.47073287 -0.2737245  1.695867\n",
       "6  -2.025974 -1.6188531 -1.0185225 -1.5648887 -0.78111877 -0.2737245 -0.473954\n",
       "7  -2.025974  0.6156202 -1.0185225 -1.2812260 -0.38205118 -0.2737245 -0.473954\n",
       "8  -2.025974  0.6156202 -1.0185225 -0.4302379  0.04657697 -0.2737245 -0.473954\n",
       "9  -1.897963  0.6156202  0.0176215 -0.7139006  0.69690935 -0.2737245 -0.473954\n",
       "10 -1.769952 -1.6188531 -1.0185225 -0.1465752 -1.32798918 -0.2737245 -0.473954\n",
       "   thalach   exang      oldpeak    slope ca thal      patient_id num\n",
       "1  1.9445017 -0.6593827 -0.6449742 NA    NA        NA  1         0  \n",
       "2  0.8847193 -0.6593827 -0.6449742 NA    NA        NA  2         0  \n",
       "3  1.3086323 -0.6593827 -0.6449742 NA    NA        NA  3         0  \n",
       "4  1.3086323 -0.6593827 -0.6449742 NA    NA 0.2211309  4         0  \n",
       "5  0.4608064 -0.6593827 -0.6449742 NA    NA        NA  5         0  \n",
       "6  1.0966758 -0.6593827 -0.6449742 NA    NA        NA  6         0  \n",
       "7  1.9021104 -0.6593827 -0.6449742 NA    NA        NA  7         0  \n",
       "8  0.6727629 -0.6593827 -0.6449742 NA    NA        NA  8         0  \n",
       "9  1.9445017 -0.6593827 -0.6449742 NA    NA        NA  9         0  \n",
       "10 2.1564581 -0.6593827 -0.6449742 NA    NA        NA 10         0  "
      ]
     },
     "metadata": {},
     "output_type": "display_data"
    }
   ],
   "source": [
    "heart_disease_data_scaled <- tidy_hungarian_heart_disease_data |> \n",
    "    select(age:thal) |>\n",
    "    mutate_all(scale, center = TRUE) |>\n",
    "    bind_cols(tidy_hungarian_heart_disease_data |> select(patient_id, num))\n",
    "slice(heart_disease_data_scaled, 1:10)"
   ]
  },
  {
   "cell_type": "markdown",
   "id": "1a2274aa",
   "metadata": {},
   "source": [
    "---"
   ]
  },
  {
   "cell_type": "markdown",
   "id": "9dba0f0d",
   "metadata": {},
   "source": [
    "### 2) Data Splitting into Train and Test Data Set"
   ]
  },
  {
   "cell_type": "code",
   "execution_count": 14,
   "id": "1eeda4b8-dab6-46c0-9c97-8f913a6a791a",
   "metadata": {},
   "outputs": [
    {
     "data": {
      "text/html": [
       "<table class=\"dataframe\">\n",
       "<caption>A data.frame: 10 × 15</caption>\n",
       "<thead>\n",
       "\t<tr><th scope=col>age</th><th scope=col>sex</th><th scope=col>cp</th><th scope=col>trestbps</th><th scope=col>chol</th><th scope=col>fbs</th><th scope=col>restecg</th><th scope=col>thalach</th><th scope=col>exang</th><th scope=col>oldpeak</th><th scope=col>slope</th><th scope=col>ca</th><th scope=col>thal</th><th scope=col>patient_id</th><th scope=col>num</th></tr>\n",
       "\t<tr><th scope=col>&lt;dbl[,1]&gt;</th><th scope=col>&lt;dbl[,1]&gt;</th><th scope=col>&lt;dbl[,1]&gt;</th><th scope=col>&lt;dbl[,1]&gt;</th><th scope=col>&lt;dbl[,1]&gt;</th><th scope=col>&lt;dbl[,1]&gt;</th><th scope=col>&lt;dbl[,1]&gt;</th><th scope=col>&lt;dbl[,1]&gt;</th><th scope=col>&lt;dbl[,1]&gt;</th><th scope=col>&lt;dbl[,1]&gt;</th><th scope=col>&lt;dbl[,1]&gt;</th><th scope=col>&lt;dbl[,1]&gt;</th><th scope=col>&lt;dbl[,1]&gt;</th><th scope=col>&lt;int&gt;</th><th scope=col>&lt;int&gt;</th></tr>\n",
       "</thead>\n",
       "<tbody>\n",
       "\t<tr><td>-2.410008</td><td> 0.6156202</td><td>-1.0185225</td><td>-0.7139006</td><td>-0.11600612</td><td>-0.2737245</td><td>-0.473954</td><td>0.8847193</td><td>-0.6593827</td><td>-0.6449742</td><td>NA</td><td>NA</td><td>       NA</td><td> 2</td><td>0</td></tr>\n",
       "\t<tr><td>-2.410008</td><td> 0.6156202</td><td>-1.0185225</td><td> 0.4207502</td><td>         NA</td><td>-0.2737245</td><td>-0.473954</td><td>1.3086323</td><td>-0.6593827</td><td>-0.6449742</td><td>NA</td><td>NA</td><td>       NA</td><td> 3</td><td>0</td></tr>\n",
       "\t<tr><td>-2.281997</td><td>-1.6188531</td><td>-2.0546666</td><td> 2.1227265</td><td>-0.20468781</td><td>-0.2737245</td><td> 1.695867</td><td>1.3086323</td><td>-0.6593827</td><td>-0.6449742</td><td>NA</td><td>NA</td><td>0.2211309</td><td> 4</td><td>0</td></tr>\n",
       "\t<tr><td>-2.025974</td><td>-1.6188531</td><td>-1.0185225</td><td>-1.5648887</td><td>-0.78111877</td><td>-0.2737245</td><td>-0.473954</td><td>1.0966758</td><td>-0.6593827</td><td>-0.6449742</td><td>NA</td><td>NA</td><td>       NA</td><td> 6</td><td>0</td></tr>\n",
       "\t<tr><td>-2.025974</td><td> 0.6156202</td><td>-1.0185225</td><td>-1.2812260</td><td>-0.38205118</td><td>-0.2737245</td><td>-0.473954</td><td>1.9021104</td><td>-0.6593827</td><td>-0.6449742</td><td>NA</td><td>NA</td><td>       NA</td><td> 7</td><td>0</td></tr>\n",
       "\t<tr><td>-2.025974</td><td> 0.6156202</td><td>-1.0185225</td><td>-0.4302379</td><td> 0.04657697</td><td>-0.2737245</td><td>-0.473954</td><td>0.6727629</td><td>-0.6593827</td><td>-0.6449742</td><td>NA</td><td>NA</td><td>       NA</td><td> 8</td><td>0</td></tr>\n",
       "\t<tr><td>-1.897963</td><td> 0.6156202</td><td> 0.0176215</td><td>-0.7139006</td><td> 0.69690935</td><td>-0.2737245</td><td>-0.473954</td><td>1.9445017</td><td>-0.6593827</td><td>-0.6449742</td><td>NA</td><td>NA</td><td>       NA</td><td> 9</td><td>0</td></tr>\n",
       "\t<tr><td>-1.769952</td><td>-1.6188531</td><td>-1.0185225</td><td>-0.1465752</td><td>-1.32798918</td><td>-0.2737245</td><td>-0.473954</td><td>2.1564581</td><td>-0.6593827</td><td>-0.6449742</td><td>NA</td><td>NA</td><td>       NA</td><td>10</td><td>0</td></tr>\n",
       "\t<tr><td>-1.769952</td><td> 0.6156202</td><td>-1.0185225</td><td> 0.9880756</td><td>-0.54463427</td><td>-0.2737245</td><td> 1.695867</td><td>1.2238497</td><td>-0.6593827</td><td>-0.6449742</td><td>NA</td><td>NA</td><td>       NA</td><td>11</td><td>0</td></tr>\n",
       "\t<tr><td>-1.641940</td><td>-1.6188531</td><td> 1.0537655</td><td> 0.4207502</td><td>-1.23930749</td><td>-0.2737245</td><td>-0.473954</td><td>0.4608064</td><td>-0.6593827</td><td>-0.6449742</td><td>NA</td><td>NA</td><td>       NA</td><td>14</td><td>0</td></tr>\n",
       "</tbody>\n",
       "</table>\n"
      ],
      "text/latex": [
       "A data.frame: 10 × 15\n",
       "\\begin{tabular}{lllllllllllllll}\n",
       " age & sex & cp & trestbps & chol & fbs & restecg & thalach & exang & oldpeak & slope & ca & thal & patient\\_id & num\\\\\n",
       " <dbl{[},1{]}> & <dbl{[},1{]}> & <dbl{[},1{]}> & <dbl{[},1{]}> & <dbl{[},1{]}> & <dbl{[},1{]}> & <dbl{[},1{]}> & <dbl{[},1{]}> & <dbl{[},1{]}> & <dbl{[},1{]}> & <dbl{[},1{]}> & <dbl{[},1{]}> & <dbl{[},1{]}> & <int> & <int>\\\\\n",
       "\\hline\n",
       "\t -2.410008 &  0.6156202 & -1.0185225 & -0.7139006 & -0.11600612 & -0.2737245 & -0.473954 & 0.8847193 & -0.6593827 & -0.6449742 & NA & NA &        NA &  2 & 0\\\\\n",
       "\t -2.410008 &  0.6156202 & -1.0185225 &  0.4207502 &          NA & -0.2737245 & -0.473954 & 1.3086323 & -0.6593827 & -0.6449742 & NA & NA &        NA &  3 & 0\\\\\n",
       "\t -2.281997 & -1.6188531 & -2.0546666 &  2.1227265 & -0.20468781 & -0.2737245 &  1.695867 & 1.3086323 & -0.6593827 & -0.6449742 & NA & NA & 0.2211309 &  4 & 0\\\\\n",
       "\t -2.025974 & -1.6188531 & -1.0185225 & -1.5648887 & -0.78111877 & -0.2737245 & -0.473954 & 1.0966758 & -0.6593827 & -0.6449742 & NA & NA &        NA &  6 & 0\\\\\n",
       "\t -2.025974 &  0.6156202 & -1.0185225 & -1.2812260 & -0.38205118 & -0.2737245 & -0.473954 & 1.9021104 & -0.6593827 & -0.6449742 & NA & NA &        NA &  7 & 0\\\\\n",
       "\t -2.025974 &  0.6156202 & -1.0185225 & -0.4302379 &  0.04657697 & -0.2737245 & -0.473954 & 0.6727629 & -0.6593827 & -0.6449742 & NA & NA &        NA &  8 & 0\\\\\n",
       "\t -1.897963 &  0.6156202 &  0.0176215 & -0.7139006 &  0.69690935 & -0.2737245 & -0.473954 & 1.9445017 & -0.6593827 & -0.6449742 & NA & NA &        NA &  9 & 0\\\\\n",
       "\t -1.769952 & -1.6188531 & -1.0185225 & -0.1465752 & -1.32798918 & -0.2737245 & -0.473954 & 2.1564581 & -0.6593827 & -0.6449742 & NA & NA &        NA & 10 & 0\\\\\n",
       "\t -1.769952 &  0.6156202 & -1.0185225 &  0.9880756 & -0.54463427 & -0.2737245 &  1.695867 & 1.2238497 & -0.6593827 & -0.6449742 & NA & NA &        NA & 11 & 0\\\\\n",
       "\t -1.641940 & -1.6188531 &  1.0537655 &  0.4207502 & -1.23930749 & -0.2737245 & -0.473954 & 0.4608064 & -0.6593827 & -0.6449742 & NA & NA &        NA & 14 & 0\\\\\n",
       "\\end{tabular}\n"
      ],
      "text/markdown": [
       "\n",
       "A data.frame: 10 × 15\n",
       "\n",
       "| age &lt;dbl[,1]&gt; | sex &lt;dbl[,1]&gt; | cp &lt;dbl[,1]&gt; | trestbps &lt;dbl[,1]&gt; | chol &lt;dbl[,1]&gt; | fbs &lt;dbl[,1]&gt; | restecg &lt;dbl[,1]&gt; | thalach &lt;dbl[,1]&gt; | exang &lt;dbl[,1]&gt; | oldpeak &lt;dbl[,1]&gt; | slope &lt;dbl[,1]&gt; | ca &lt;dbl[,1]&gt; | thal &lt;dbl[,1]&gt; | patient_id &lt;int&gt; | num &lt;int&gt; |\n",
       "|---|---|---|---|---|---|---|---|---|---|---|---|---|---|---|\n",
       "| -2.410008 |  0.6156202 | -1.0185225 | -0.7139006 | -0.11600612 | -0.2737245 | -0.473954 | 0.8847193 | -0.6593827 | -0.6449742 | NA | NA |        NA |  2 | 0 |\n",
       "| -2.410008 |  0.6156202 | -1.0185225 |  0.4207502 |          NA | -0.2737245 | -0.473954 | 1.3086323 | -0.6593827 | -0.6449742 | NA | NA |        NA |  3 | 0 |\n",
       "| -2.281997 | -1.6188531 | -2.0546666 |  2.1227265 | -0.20468781 | -0.2737245 |  1.695867 | 1.3086323 | -0.6593827 | -0.6449742 | NA | NA | 0.2211309 |  4 | 0 |\n",
       "| -2.025974 | -1.6188531 | -1.0185225 | -1.5648887 | -0.78111877 | -0.2737245 | -0.473954 | 1.0966758 | -0.6593827 | -0.6449742 | NA | NA |        NA |  6 | 0 |\n",
       "| -2.025974 |  0.6156202 | -1.0185225 | -1.2812260 | -0.38205118 | -0.2737245 | -0.473954 | 1.9021104 | -0.6593827 | -0.6449742 | NA | NA |        NA |  7 | 0 |\n",
       "| -2.025974 |  0.6156202 | -1.0185225 | -0.4302379 |  0.04657697 | -0.2737245 | -0.473954 | 0.6727629 | -0.6593827 | -0.6449742 | NA | NA |        NA |  8 | 0 |\n",
       "| -1.897963 |  0.6156202 |  0.0176215 | -0.7139006 |  0.69690935 | -0.2737245 | -0.473954 | 1.9445017 | -0.6593827 | -0.6449742 | NA | NA |        NA |  9 | 0 |\n",
       "| -1.769952 | -1.6188531 | -1.0185225 | -0.1465752 | -1.32798918 | -0.2737245 | -0.473954 | 2.1564581 | -0.6593827 | -0.6449742 | NA | NA |        NA | 10 | 0 |\n",
       "| -1.769952 |  0.6156202 | -1.0185225 |  0.9880756 | -0.54463427 | -0.2737245 |  1.695867 | 1.2238497 | -0.6593827 | -0.6449742 | NA | NA |        NA | 11 | 0 |\n",
       "| -1.641940 | -1.6188531 |  1.0537655 |  0.4207502 | -1.23930749 | -0.2737245 | -0.473954 | 0.4608064 | -0.6593827 | -0.6449742 | NA | NA |        NA | 14 | 0 |\n",
       "\n"
      ],
      "text/plain": [
       "   age       sex        cp         trestbps   chol        fbs        restecg  \n",
       "1  -2.410008  0.6156202 -1.0185225 -0.7139006 -0.11600612 -0.2737245 -0.473954\n",
       "2  -2.410008  0.6156202 -1.0185225  0.4207502          NA -0.2737245 -0.473954\n",
       "3  -2.281997 -1.6188531 -2.0546666  2.1227265 -0.20468781 -0.2737245  1.695867\n",
       "4  -2.025974 -1.6188531 -1.0185225 -1.5648887 -0.78111877 -0.2737245 -0.473954\n",
       "5  -2.025974  0.6156202 -1.0185225 -1.2812260 -0.38205118 -0.2737245 -0.473954\n",
       "6  -2.025974  0.6156202 -1.0185225 -0.4302379  0.04657697 -0.2737245 -0.473954\n",
       "7  -1.897963  0.6156202  0.0176215 -0.7139006  0.69690935 -0.2737245 -0.473954\n",
       "8  -1.769952 -1.6188531 -1.0185225 -0.1465752 -1.32798918 -0.2737245 -0.473954\n",
       "9  -1.769952  0.6156202 -1.0185225  0.9880756 -0.54463427 -0.2737245  1.695867\n",
       "10 -1.641940 -1.6188531  1.0537655  0.4207502 -1.23930749 -0.2737245 -0.473954\n",
       "   thalach   exang      oldpeak    slope ca thal      patient_id num\n",
       "1  0.8847193 -0.6593827 -0.6449742 NA    NA        NA  2         0  \n",
       "2  1.3086323 -0.6593827 -0.6449742 NA    NA        NA  3         0  \n",
       "3  1.3086323 -0.6593827 -0.6449742 NA    NA 0.2211309  4         0  \n",
       "4  1.0966758 -0.6593827 -0.6449742 NA    NA        NA  6         0  \n",
       "5  1.9021104 -0.6593827 -0.6449742 NA    NA        NA  7         0  \n",
       "6  0.6727629 -0.6593827 -0.6449742 NA    NA        NA  8         0  \n",
       "7  1.9445017 -0.6593827 -0.6449742 NA    NA        NA  9         0  \n",
       "8  2.1564581 -0.6593827 -0.6449742 NA    NA        NA 10         0  \n",
       "9  1.2238497 -0.6593827 -0.6449742 NA    NA        NA 11         0  \n",
       "10 0.4608064 -0.6593827 -0.6449742 NA    NA        NA 14         0  "
      ]
     },
     "metadata": {},
     "output_type": "display_data"
    },
    {
     "data": {
      "text/html": [
       "<table class=\"dataframe\">\n",
       "<caption>A data.frame: 10 × 15</caption>\n",
       "<thead>\n",
       "\t<tr><th scope=col>age</th><th scope=col>sex</th><th scope=col>cp</th><th scope=col>trestbps</th><th scope=col>chol</th><th scope=col>fbs</th><th scope=col>restecg</th><th scope=col>thalach</th><th scope=col>exang</th><th scope=col>oldpeak</th><th scope=col>slope</th><th scope=col>ca</th><th scope=col>thal</th><th scope=col>patient_id</th><th scope=col>num</th></tr>\n",
       "\t<tr><th scope=col>&lt;dbl[,1]&gt;</th><th scope=col>&lt;dbl[,1]&gt;</th><th scope=col>&lt;dbl[,1]&gt;</th><th scope=col>&lt;dbl[,1]&gt;</th><th scope=col>&lt;dbl[,1]&gt;</th><th scope=col>&lt;dbl[,1]&gt;</th><th scope=col>&lt;dbl[,1]&gt;</th><th scope=col>&lt;dbl[,1]&gt;</th><th scope=col>&lt;dbl[,1]&gt;</th><th scope=col>&lt;dbl[,1]&gt;</th><th scope=col>&lt;dbl[,1]&gt;</th><th scope=col>&lt;dbl[,1]&gt;</th><th scope=col>&lt;dbl[,1]&gt;</th><th scope=col>&lt;int&gt;</th><th scope=col>&lt;int&gt;</th></tr>\n",
       "</thead>\n",
       "<tbody>\n",
       "\t<tr><td>-2.538019</td><td> 0.6156202</td><td>-1.0185225</td><td>-0.1465752</td><td>-1.7566173</td><td>-0.2737245</td><td> 3.865688</td><td> 1.9445017</td><td>-0.6593827</td><td>-0.6449742</td><td>       NA</td><td>NA</td><td>       NA</td><td> 1</td><td>0</td></tr>\n",
       "\t<tr><td>-2.153985</td><td>-1.6188531</td><td>-1.0185225</td><td>-1.8485515</td><td>-0.4707329</td><td>-0.2737245</td><td> 1.695867</td><td> 0.4608064</td><td>-0.6593827</td><td>-0.6449742</td><td>       NA</td><td>NA</td><td>       NA</td><td> 5</td><td>0</td></tr>\n",
       "\t<tr><td>-1.769952</td><td> 0.6156202</td><td>-1.0185225</td><td>-1.9620165</td><td>-0.4559526</td><td>-0.2737245</td><td>-0.473954</td><td> 0.4608064</td><td>-0.6593827</td><td>-0.6449742</td><td>       NA</td><td>NA</td><td>       NA</td><td>12</td><td>0</td></tr>\n",
       "\t<tr><td>-1.641940</td><td>-1.6188531</td><td>-2.0546666</td><td>-0.7139006</td><td>-1.3427695</td><td>-0.2737245</td><td> 1.695867</td><td> 1.9445017</td><td>-0.6593827</td><td>-0.6449742</td><td>       NA</td><td>NA</td><td>       NA</td><td>13</td><td>0</td></tr>\n",
       "\t<tr><td>-1.513929</td><td> 0.6156202</td><td> 0.0176215</td><td>-1.1677610</td><td> 1.3176812</td><td>-0.2737245</td><td>-0.473954</td><td> 1.9021104</td><td>-0.6593827</td><td> 0.4555621</td><td>0.3120079</td><td>NA</td><td>-1.636369</td><td>18</td><td>0</td></tr>\n",
       "\t<tr><td>-1.385918</td><td> 0.6156202</td><td>-1.0185225</td><td>-0.1465752</td><td> 0.4752051</td><td>-0.2737245</td><td> 1.695867</td><td>-1.7435409</td><td>-0.6593827</td><td>-0.6449742</td><td>       NA</td><td>NA</td><td>       NA</td><td>24</td><td>0</td></tr>\n",
       "\t<tr><td>-1.129895</td><td>-1.6188531</td><td> 0.0176215</td><td>-1.2812260</td><td>-1.0176033</td><td>-0.2737245</td><td> 1.695867</td><td> 1.7325452</td><td>-0.6593827</td><td>-0.6449742</td><td>       NA</td><td>NA</td><td>       NA</td><td>31</td><td>0</td></tr>\n",
       "\t<tr><td>-1.129895</td><td> 0.6156202</td><td>-1.0185225</td><td>-0.7139006</td><td>-0.7515582</td><td>-0.2737245</td><td>-0.473954</td><td> 0.8847193</td><td> 1.5113940</td><td> 0.4555621</td><td>0.3120079</td><td>NA</td><td>       NA</td><td>33</td><td>0</td></tr>\n",
       "\t<tr><td>-1.129895</td><td> 0.6156202</td><td>-1.0185225</td><td>-0.7139006</td><td>-0.6924371</td><td>-0.2737245</td><td>-0.473954</td><td> 0.2488499</td><td>-0.6593827</td><td>-0.6449742</td><td>       NA</td><td>NA</td><td>       NA</td><td>34</td><td>0</td></tr>\n",
       "\t<tr><td>-1.129895</td><td> 0.6156202</td><td> 0.0176215</td><td>-0.7139006</td><td> 1.3029009</td><td>-0.2737245</td><td>-0.473954</td><td> 1.3086323</td><td>-0.6593827</td><td>-0.6449742</td><td>       NA</td><td>NA</td><td>       NA</td><td>37</td><td>0</td></tr>\n",
       "</tbody>\n",
       "</table>\n"
      ],
      "text/latex": [
       "A data.frame: 10 × 15\n",
       "\\begin{tabular}{lllllllllllllll}\n",
       " age & sex & cp & trestbps & chol & fbs & restecg & thalach & exang & oldpeak & slope & ca & thal & patient\\_id & num\\\\\n",
       " <dbl{[},1{]}> & <dbl{[},1{]}> & <dbl{[},1{]}> & <dbl{[},1{]}> & <dbl{[},1{]}> & <dbl{[},1{]}> & <dbl{[},1{]}> & <dbl{[},1{]}> & <dbl{[},1{]}> & <dbl{[},1{]}> & <dbl{[},1{]}> & <dbl{[},1{]}> & <dbl{[},1{]}> & <int> & <int>\\\\\n",
       "\\hline\n",
       "\t -2.538019 &  0.6156202 & -1.0185225 & -0.1465752 & -1.7566173 & -0.2737245 &  3.865688 &  1.9445017 & -0.6593827 & -0.6449742 &        NA & NA &        NA &  1 & 0\\\\\n",
       "\t -2.153985 & -1.6188531 & -1.0185225 & -1.8485515 & -0.4707329 & -0.2737245 &  1.695867 &  0.4608064 & -0.6593827 & -0.6449742 &        NA & NA &        NA &  5 & 0\\\\\n",
       "\t -1.769952 &  0.6156202 & -1.0185225 & -1.9620165 & -0.4559526 & -0.2737245 & -0.473954 &  0.4608064 & -0.6593827 & -0.6449742 &        NA & NA &        NA & 12 & 0\\\\\n",
       "\t -1.641940 & -1.6188531 & -2.0546666 & -0.7139006 & -1.3427695 & -0.2737245 &  1.695867 &  1.9445017 & -0.6593827 & -0.6449742 &        NA & NA &        NA & 13 & 0\\\\\n",
       "\t -1.513929 &  0.6156202 &  0.0176215 & -1.1677610 &  1.3176812 & -0.2737245 & -0.473954 &  1.9021104 & -0.6593827 &  0.4555621 & 0.3120079 & NA & -1.636369 & 18 & 0\\\\\n",
       "\t -1.385918 &  0.6156202 & -1.0185225 & -0.1465752 &  0.4752051 & -0.2737245 &  1.695867 & -1.7435409 & -0.6593827 & -0.6449742 &        NA & NA &        NA & 24 & 0\\\\\n",
       "\t -1.129895 & -1.6188531 &  0.0176215 & -1.2812260 & -1.0176033 & -0.2737245 &  1.695867 &  1.7325452 & -0.6593827 & -0.6449742 &        NA & NA &        NA & 31 & 0\\\\\n",
       "\t -1.129895 &  0.6156202 & -1.0185225 & -0.7139006 & -0.7515582 & -0.2737245 & -0.473954 &  0.8847193 &  1.5113940 &  0.4555621 & 0.3120079 & NA &        NA & 33 & 0\\\\\n",
       "\t -1.129895 &  0.6156202 & -1.0185225 & -0.7139006 & -0.6924371 & -0.2737245 & -0.473954 &  0.2488499 & -0.6593827 & -0.6449742 &        NA & NA &        NA & 34 & 0\\\\\n",
       "\t -1.129895 &  0.6156202 &  0.0176215 & -0.7139006 &  1.3029009 & -0.2737245 & -0.473954 &  1.3086323 & -0.6593827 & -0.6449742 &        NA & NA &        NA & 37 & 0\\\\\n",
       "\\end{tabular}\n"
      ],
      "text/markdown": [
       "\n",
       "A data.frame: 10 × 15\n",
       "\n",
       "| age &lt;dbl[,1]&gt; | sex &lt;dbl[,1]&gt; | cp &lt;dbl[,1]&gt; | trestbps &lt;dbl[,1]&gt; | chol &lt;dbl[,1]&gt; | fbs &lt;dbl[,1]&gt; | restecg &lt;dbl[,1]&gt; | thalach &lt;dbl[,1]&gt; | exang &lt;dbl[,1]&gt; | oldpeak &lt;dbl[,1]&gt; | slope &lt;dbl[,1]&gt; | ca &lt;dbl[,1]&gt; | thal &lt;dbl[,1]&gt; | patient_id &lt;int&gt; | num &lt;int&gt; |\n",
       "|---|---|---|---|---|---|---|---|---|---|---|---|---|---|---|\n",
       "| -2.538019 |  0.6156202 | -1.0185225 | -0.1465752 | -1.7566173 | -0.2737245 |  3.865688 |  1.9445017 | -0.6593827 | -0.6449742 |        NA | NA |        NA |  1 | 0 |\n",
       "| -2.153985 | -1.6188531 | -1.0185225 | -1.8485515 | -0.4707329 | -0.2737245 |  1.695867 |  0.4608064 | -0.6593827 | -0.6449742 |        NA | NA |        NA |  5 | 0 |\n",
       "| -1.769952 |  0.6156202 | -1.0185225 | -1.9620165 | -0.4559526 | -0.2737245 | -0.473954 |  0.4608064 | -0.6593827 | -0.6449742 |        NA | NA |        NA | 12 | 0 |\n",
       "| -1.641940 | -1.6188531 | -2.0546666 | -0.7139006 | -1.3427695 | -0.2737245 |  1.695867 |  1.9445017 | -0.6593827 | -0.6449742 |        NA | NA |        NA | 13 | 0 |\n",
       "| -1.513929 |  0.6156202 |  0.0176215 | -1.1677610 |  1.3176812 | -0.2737245 | -0.473954 |  1.9021104 | -0.6593827 |  0.4555621 | 0.3120079 | NA | -1.636369 | 18 | 0 |\n",
       "| -1.385918 |  0.6156202 | -1.0185225 | -0.1465752 |  0.4752051 | -0.2737245 |  1.695867 | -1.7435409 | -0.6593827 | -0.6449742 |        NA | NA |        NA | 24 | 0 |\n",
       "| -1.129895 | -1.6188531 |  0.0176215 | -1.2812260 | -1.0176033 | -0.2737245 |  1.695867 |  1.7325452 | -0.6593827 | -0.6449742 |        NA | NA |        NA | 31 | 0 |\n",
       "| -1.129895 |  0.6156202 | -1.0185225 | -0.7139006 | -0.7515582 | -0.2737245 | -0.473954 |  0.8847193 |  1.5113940 |  0.4555621 | 0.3120079 | NA |        NA | 33 | 0 |\n",
       "| -1.129895 |  0.6156202 | -1.0185225 | -0.7139006 | -0.6924371 | -0.2737245 | -0.473954 |  0.2488499 | -0.6593827 | -0.6449742 |        NA | NA |        NA | 34 | 0 |\n",
       "| -1.129895 |  0.6156202 |  0.0176215 | -0.7139006 |  1.3029009 | -0.2737245 | -0.473954 |  1.3086323 | -0.6593827 | -0.6449742 |        NA | NA |        NA | 37 | 0 |\n",
       "\n"
      ],
      "text/plain": [
       "   age       sex        cp         trestbps   chol       fbs        restecg  \n",
       "1  -2.538019  0.6156202 -1.0185225 -0.1465752 -1.7566173 -0.2737245  3.865688\n",
       "2  -2.153985 -1.6188531 -1.0185225 -1.8485515 -0.4707329 -0.2737245  1.695867\n",
       "3  -1.769952  0.6156202 -1.0185225 -1.9620165 -0.4559526 -0.2737245 -0.473954\n",
       "4  -1.641940 -1.6188531 -2.0546666 -0.7139006 -1.3427695 -0.2737245  1.695867\n",
       "5  -1.513929  0.6156202  0.0176215 -1.1677610  1.3176812 -0.2737245 -0.473954\n",
       "6  -1.385918  0.6156202 -1.0185225 -0.1465752  0.4752051 -0.2737245  1.695867\n",
       "7  -1.129895 -1.6188531  0.0176215 -1.2812260 -1.0176033 -0.2737245  1.695867\n",
       "8  -1.129895  0.6156202 -1.0185225 -0.7139006 -0.7515582 -0.2737245 -0.473954\n",
       "9  -1.129895  0.6156202 -1.0185225 -0.7139006 -0.6924371 -0.2737245 -0.473954\n",
       "10 -1.129895  0.6156202  0.0176215 -0.7139006  1.3029009 -0.2737245 -0.473954\n",
       "   thalach    exang      oldpeak    slope     ca thal      patient_id num\n",
       "1   1.9445017 -0.6593827 -0.6449742        NA NA        NA  1         0  \n",
       "2   0.4608064 -0.6593827 -0.6449742        NA NA        NA  5         0  \n",
       "3   0.4608064 -0.6593827 -0.6449742        NA NA        NA 12         0  \n",
       "4   1.9445017 -0.6593827 -0.6449742        NA NA        NA 13         0  \n",
       "5   1.9021104 -0.6593827  0.4555621 0.3120079 NA -1.636369 18         0  \n",
       "6  -1.7435409 -0.6593827 -0.6449742        NA NA        NA 24         0  \n",
       "7   1.7325452 -0.6593827 -0.6449742        NA NA        NA 31         0  \n",
       "8   0.8847193  1.5113940  0.4555621 0.3120079 NA        NA 33         0  \n",
       "9   0.2488499 -0.6593827 -0.6449742        NA NA        NA 34         0  \n",
       "10  1.3086323 -0.6593827 -0.6449742        NA NA        NA 37         0  "
      ]
     },
     "metadata": {},
     "output_type": "display_data"
    }
   ],
   "source": [
    "set.seed(1234)\n",
    "heart_disease_split <- initial_split(heart_disease_data_scaled, prop = 0.75, strata = num)  \n",
    "heart_disease_train <- training(heart_disease_split)   \n",
    "heart_disease_test <- testing(heart_disease_split)\n",
    "slice(heart_disease_train, 1:10)\n",
    "slice(heart_disease_test, 1:10)"
   ]
  },
  {
   "cell_type": "code",
   "execution_count": 31,
   "id": "a70c5eb0-14ff-43bb-8d66-7593580994f0",
   "metadata": {},
   "outputs": [
    {
     "data": {
      "text/html": [
       "<table class=\"dataframe\">\n",
       "<caption>A tibble: 2 × 13</caption>\n",
       "<thead>\n",
       "\t<tr><th scope=col>num</th><th scope=col>num_obs</th><th scope=col>age_mean</th><th scope=col>thalach_mean</th><th scope=col>chol_mean</th><th scope=col>restecg_0</th><th scope=col>restecg_1</th><th scope=col>restecg_2</th><th scope=col>cp_1</th><th scope=col>cp_2</th><th scope=col>cp_3</th><th scope=col>cp_4</th><th scope=col>missing_data</th></tr>\n",
       "\t<tr><th scope=col>&lt;int&gt;</th><th scope=col>&lt;int&gt;</th><th scope=col>&lt;dbl&gt;</th><th scope=col>&lt;dbl&gt;</th><th scope=col>&lt;dbl&gt;</th><th scope=col>&lt;int&gt;</th><th scope=col>&lt;int&gt;</th><th scope=col>&lt;int&gt;</th><th scope=col>&lt;int&gt;</th><th scope=col>&lt;int&gt;</th><th scope=col>&lt;int&gt;</th><th scope=col>&lt;int&gt;</th><th scope=col>&lt;int&gt;</th></tr>\n",
       "</thead>\n",
       "<tbody>\n",
       "\t<tr><td>0</td><td>141</td><td>-0.07947667</td><td> 0.2116061</td><td>-0.07547582</td><td>0</td><td>0</td><td>0</td><td>0</td><td>0</td><td>0</td><td>0</td><td>589</td></tr>\n",
       "\t<tr><td>1</td><td> 79</td><td> 0.15345809</td><td>-0.4567773</td><td> 0.39071785</td><td>0</td><td>0</td><td>0</td><td>0</td><td>0</td><td>0</td><td>0</td><td>589</td></tr>\n",
       "</tbody>\n",
       "</table>\n"
      ],
      "text/latex": [
       "A tibble: 2 × 13\n",
       "\\begin{tabular}{lllllllllllll}\n",
       " num & num\\_obs & age\\_mean & thalach\\_mean & chol\\_mean & restecg\\_0 & restecg\\_1 & restecg\\_2 & cp\\_1 & cp\\_2 & cp\\_3 & cp\\_4 & missing\\_data\\\\\n",
       " <int> & <int> & <dbl> & <dbl> & <dbl> & <int> & <int> & <int> & <int> & <int> & <int> & <int> & <int>\\\\\n",
       "\\hline\n",
       "\t 0 & 141 & -0.07947667 &  0.2116061 & -0.07547582 & 0 & 0 & 0 & 0 & 0 & 0 & 0 & 589\\\\\n",
       "\t 1 &  79 &  0.15345809 & -0.4567773 &  0.39071785 & 0 & 0 & 0 & 0 & 0 & 0 & 0 & 589\\\\\n",
       "\\end{tabular}\n"
      ],
      "text/markdown": [
       "\n",
       "A tibble: 2 × 13\n",
       "\n",
       "| num &lt;int&gt; | num_obs &lt;int&gt; | age_mean &lt;dbl&gt; | thalach_mean &lt;dbl&gt; | chol_mean &lt;dbl&gt; | restecg_0 &lt;int&gt; | restecg_1 &lt;int&gt; | restecg_2 &lt;int&gt; | cp_1 &lt;int&gt; | cp_2 &lt;int&gt; | cp_3 &lt;int&gt; | cp_4 &lt;int&gt; | missing_data &lt;int&gt; |\n",
       "|---|---|---|---|---|---|---|---|---|---|---|---|---|\n",
       "| 0 | 141 | -0.07947667 |  0.2116061 | -0.07547582 | 0 | 0 | 0 | 0 | 0 | 0 | 0 | 589 |\n",
       "| 1 |  79 |  0.15345809 | -0.4567773 |  0.39071785 | 0 | 0 | 0 | 0 | 0 | 0 | 0 | 589 |\n",
       "\n"
      ],
      "text/plain": [
       "  num num_obs age_mean    thalach_mean chol_mean   restecg_0 restecg_1\n",
       "1 0   141     -0.07947667  0.2116061   -0.07547582 0         0        \n",
       "2 1    79      0.15345809 -0.4567773    0.39071785 0         0        \n",
       "  restecg_2 cp_1 cp_2 cp_3 cp_4 missing_data\n",
       "1 0         0    0    0    0    589         \n",
       "2 0         0    0    0    0    589         "
      ]
     },
     "metadata": {},
     "output_type": "display_data"
    }
   ],
   "source": [
    "train_summary <- heart_disease_train |>\n",
    "    group_by(num) |>\n",
    "    summarize(num_obs = n(),\n",
    "              age_mean = mean(age, na.rm = TRUE),\n",
    "              thalach_mean = mean(thalach, na.rm = TRUE),\n",
    "              chol_mean = mean(chol, na.rm = TRUE),\n",
    "              restecg_0 = sum(restecg == 0, na.rm = TRUE),\n",
    "              restecg_1 = sum(restecg == 1, na.rm = TRUE),\n",
    "              restecg_2 = sum(restecg == 2, na.rm = TRUE),\n",
    "              cp_1 = sum(cp == 1, na.rm = TRUE),\n",
    "              cp_2 = sum(cp == 2, na.rm = TRUE),\n",
    "              cp_3 = sum(cp == 3, na.rm = TRUE),\n",
    "              cp_4 = sum(cp == 4, na.rm = TRUE),\n",
    "              missing_data = sum(is.na(heart_disease_train)))\n",
    "train_summary"
   ]
  },
  {
   "cell_type": "markdown",
   "id": "4412d260",
   "metadata": {},
   "source": [
    "----"
   ]
  },
  {
   "cell_type": "markdown",
   "id": "9459047d",
   "metadata": {},
   "source": [
    "### 3) Distribution of Predictor Variables"
   ]
  },
  {
   "cell_type": "code",
   "execution_count": 33,
   "id": "6b7c1004-3444-4f64-81c3-703137064db0",
   "metadata": {},
   "outputs": [
    {
     "name": "stderr",
     "output_type": "stream",
     "text": [
      "Warning message:\n",
      "“Removed 19 rows containing non-finite values (stat_boxplot).”\n"
     ]
    },
    {
     "data": {
      "image/png": "[encoded data removed]",
      "text/plain": [
       "plot without title"
      ]
     },
     "metadata": {
      "image/png": {
       "height": 420,
       "width": 420
      }
     },
     "output_type": "display_data"
    }
   ],
   "source": [
    "heart_disease_plot <- heart_disease_train |>\n",
    "    select(age, thalach, chol, restecg, cp, num) |>\n",
    "    pivot_longer(cols = c(age, thalach, chol, restecg, cp), names_to = \"variable\", values_to = \"value\") |>\n",
    "    ggplot(aes(x = variable, y = value)) +\n",
    "    geom_boxplot() +\n",
    "    labs(x = \"Predictor Variable\", y = \"Value\", title = \"Distribution of Predictor Variables Based on Presence of Heart Disease\")\n",
    "\n",
    "heart_disease_plot"
   ]
  },
  {
   "cell_type": "markdown",
   "id": "efe005f9-c965-4631-9927-174949f0c3a2",
   "metadata": {},
   "source": [
    "### Methods:"
   ]
  },
  {
   "cell_type": "markdown",
   "id": "8bf2b571-63a8-4234-a5d4-de559ca9a4b0",
   "metadata": {},
   "source": [
    "We will first assess the correlation between heart disease diagnosis and the 5 variables through scatter plots. By examining the trend plotted against heart disease, we will select the top 2 numerical variables and the top categorical variable that are most closely associated for an easier display of results. These variables will be scaled and used as parameters for the training classification recipe. Next, we will find the best k-neighbor using cross-validation and plotting k-neighbors (1-50) against their respective accuracy. Once the best k-neighbor is determined, we will train our classification specification model for our classifier. Subsequently, we will assess the accuracy of this model against our test data for the prediction of heart disease diagnosis.\n",
    "\n",
    "To visualize these results, we will be using scatter plots of the two numerical variables on the x and y axis, where the background color (red/green) indicates the decision of the classifier. If applicable, we may choose to use multiple scatter plots to display the effect of a third variable on the diagnosis. Depending on what the variable is, the number of scatter plots used will correspond to the number of categories or divided range of that variable."
   ]
  },
  {
   "cell_type": "markdown",
   "id": "d1e52ec2-b4ab-454e-8b0b-d9e4dfcc35c7",
   "metadata": {},
   "source": [
    "### Expected Outcomes and Significance:"
   ]
  },
  {
   "cell_type": "markdown",
   "id": "5141121a-b117-488c-a77e-b7d9830889c3",
   "metadata": {},
   "source": [
    "We expect to see people with higher age, lower maximum heart rate, abnormal resting electrocardiographic results, higher cholesterol level, and typical or asymptomatic angina to be more likely diagnosed with heart disease. However, the strength of the association is unknown and will be determined based on our analysis of the data. Identifying the predictability of these common clinical factors may notify individuals in advance of their risk of getting heart disease. This may lead to future questions on how efficient is the alert in preventing disease outcomes, possibly by examining how it lowers these risk factors over time."
   ]
  },
  {
   "cell_type": "code",
   "execution_count": null,
   "id": "52d9227f-2d0a-48ca-a44d-e0c8253772ac",
   "metadata": {},
   "outputs": [],
   "source": []
  }
 ],
 "metadata": {
  "kernelspec": {
   "display_name": "R",
   "language": "R",
   "name": "ir"
  },
  "language_info": {
   "codemirror_mode": "r",
   "file_extension": ".r",
   "mimetype": "text/x-r-source",
   "name": "R",
   "pygments_lexer": "r",
   "version": "3.6.1"
  }
 },
 "nbformat": 4,
 "nbformat_minor": 5
}
